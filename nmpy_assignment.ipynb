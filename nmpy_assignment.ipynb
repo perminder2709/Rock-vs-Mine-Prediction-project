{
 "cells": [
  {
   "cell_type": "code",
   "execution_count": null,
   "id": "0a123a8b-721f-462c-b8a5-09693381ce51",
   "metadata": {},
   "outputs": [],
   "source": [
    "#Create a NumPy array arr of integers from 0 to 5 and print its data type.\n",
    "import numpy as np\n",
    "\n",
    "arr = np.arange(6)\n",
    "print(arr)\n",
    "print(arr.dtype)"
   ]
  },
  {
   "cell_type": "code",
   "execution_count": null,
   "id": "69d5468c-663b-41f2-86e4-828515772efb",
   "metadata": {},
   "outputs": [],
   "source": [
    "#Given a NumPy array arr, check if its data type is float64.\n",
    "arr = np.array([1.5, 2.6, 3.7])\n",
    "print(arr.dtype == np.float64)"
   ]
  },
  {
   "cell_type": "code",
   "execution_count": null,
   "id": "849d873b-c572-4f68-a7fc-54b591d0213c",
   "metadata": {},
   "outputs": [],
   "source": [
    "# Create a NumPy array arr with a data type of complex128 containing three complex numbers.\n",
    "arr = np.array([1+2j, 3+4j, 5+6j], dtype=np.complex128)\n",
    "print(arr)"
   ]
  },
  {
   "cell_type": "code",
   "execution_count": null,
   "id": "6e4b66f2-bdb6-4e63-b706-206b786389cb",
   "metadata": {},
   "outputs": [],
   "source": [
    "#Convert an existing NumPy array arr of integers to float32 data type.\n",
    "arr = np.array([1, 2, 3])\n",
    "arr_float32 = arr.astype(np.float32)\n",
    "print(arr_float32)\n",
    "print(arr_float32.dtype)"
   ]
  },
  {
   "cell_type": "code",
   "execution_count": null,
   "id": "a831fcd5-0942-4494-84c0-2b9a31d0c462",
   "metadata": {},
   "outputs": [],
   "source": [
    "#Given a NumPy array arr with float64 data type, convert it to float32 to reduce decimal precision\n",
    "arr = np.array([1.23456789, 2.34567891], dtype=np.float64)\n",
    "arr_float32 = arr.astype(np.float32)\n",
    "print(arr_float32)\n",
    "print(arr_float32.dtype)"
   ]
  },
  {
   "cell_type": "code",
   "execution_count": null,
   "id": "aaa8d137-6b11-4b90-a4d0-52bcf32a2a44",
   "metadata": {},
   "outputs": [],
   "source": [
    "#Create a function array_dimension that takes a NumPy array as input and returns its shape, size, and data type.\n",
    "def array_dimension(arr):\n",
    "    return arr.shape, arr.size, arr.dtype"
   ]
  },
  {
   "cell_type": "code",
   "execution_count": null,
   "id": "3f9a9908-6480-47fb-87a1-d5286d8f8f59",
   "metadata": {},
   "outputs": [],
   "source": [
    "#Design a function size_info that takes a NumPy array as input and returns the item size and the total size in bytes.\n",
    "def size_info(arr):\n",
    "    return arr.itemsize, arr.nbytes"
   ]
  },
  {
   "cell_type": "code",
   "execution_count": null,
   "id": "a6305dfd-c904-4ab0-8041-8754ce0d1635",
   "metadata": {},
   "outputs": [],
   "source": [
    "#Create a function array_strides that takes a NumPy array as input and returns the strides of the array.\n",
    "def array_strides(arr):\n",
    "    return arr.strides"
   ]
  },
  {
   "cell_type": "code",
   "execution_count": null,
   "id": "f4278c6b-b723-4d9c-bada-e394515cbf94",
   "metadata": {},
   "outputs": [],
   "source": [
    "#Design a function stride_relationship that takes a NumPy array as input and returns the shape and strides of the array.\n",
    "def stride_relationship(arr):\n",
    "    return arr.shape, arr.strides"
   ]
  },
  {
   "cell_type": "code",
   "execution_count": null,
   "id": "ca45b879-78f4-4f8f-9d8c-2a1df2f04937",
   "metadata": {},
   "outputs": [],
   "source": [
    "#Create a function create_zeros_array that takes an integer n as input and returns a NumPy array of zeros with n elements.\n",
    "def create_zeros_array(n):\n",
    "    return np.zeros(n)"
   ]
  },
  {
   "cell_type": "code",
   "execution_count": null,
   "id": "48ab7d11-f3ad-4232-a721-c2049bc7bd7a",
   "metadata": {},
   "outputs": [],
   "source": [
    "#Write a function create_ones_matrix that takes integers rows and cols as input and generates a 2D NumPy array filled with ones of size rows x cols.\n",
    "def create_ones_matrix(rows, cols):\n",
    "    return np.ones((rows, cols))"
   ]
  },
  {
   "cell_type": "code",
   "execution_count": null,
   "id": "4c1cdae3-9784-4f1a-b5ec-460d57dc6413",
   "metadata": {},
   "outputs": [],
   "source": [
    "#Write a function generate_range_array that takes three integers start, stop, and step as arguments and creates a NumPy array with a range starting from start, ending at stop (exclusive), and with the specified step.\n",
    "def generate_range_array(start, stop, step):\n",
    "    return np.arange(start, stop, step)"
   ]
  },
  {
   "cell_type": "code",
   "execution_count": null,
   "id": "9b01203c-f88f-4311-922c-ca9984c2ecaf",
   "metadata": {},
   "outputs": [],
   "source": [
    "#Design a function generate_linear_space that takes two floats start, stop, and an integer num as arguments and generates a NumPy array with num equally spaced values between start and stop (inclusive).\n",
    "def generate_linear_space(start, stop, num):\n",
    "    return np.linspace(start, stop, num)"
   ]
  },
  {
   "cell_type": "code",
   "execution_count": null,
   "id": "10ee1757-c8ef-4c92-bbc5-1952e3ee2a9f",
   "metadata": {},
   "outputs": [],
   "source": [
    "#Create a function create_identity_matrix that takes an integer n as input and generates a square identity matrix of size n x n using numpy.eye.\n",
    "def create_identity_matrix(n):\n",
    "    return np.eye(n)"
   ]
  },
  {
   "cell_type": "code",
   "execution_count": null,
   "id": "4694c60d-b3c6-4a76-b751-336c1fb98211",
   "metadata": {},
   "outputs": [],
   "source": [
    "#Write a function that takes a Python list and converts it into a NumPy array.\n",
    "def list_to_numpy_array(py_list):\n",
    "    return np.array(py_list)"
   ]
  },
  {
   "cell_type": "code",
   "execution_count": null,
   "id": "02452c0f-cba8-4d50-af73-c4989b15f7ca",
   "metadata": {},
   "outputs": [],
   "source": [
    "#Create a NumPy array and demonstrate the use of numpy.view to create a new array object with the same data.\n",
    "arr = np.array([1, 2, 3, 4])\n",
    "arr_view = arr.view()\n",
    "print(\"Original array:\", arr)\n",
    "print(\"View of the array:\", arr_view)"
   ]
  },
  {
   "cell_type": "code",
   "execution_count": null,
   "id": "115090cb-65aa-4a0a-a84d-77b4f4b14836",
   "metadata": {},
   "outputs": [],
   "source": [
    "#Write a function that takes two NumPy arrays and concatenates them along a specified axis.\n",
    "def concatenate_arrays(arr1, arr2, axis=0):\n",
    "    return np.concatenate((arr1, arr2), axis=axis)"
   ]
  },
  {
   "cell_type": "code",
   "execution_count": null,
   "id": "2a0f8d82-c471-4fb4-9c1b-d95eeb6db175",
   "metadata": {},
   "outputs": [],
   "source": [
    "#Create two NumPy arrays with different shapes and concatenate them horizontally using numpy.concatenate.\n",
    "arr1 = np.array([[1, 2], [3, 4]])\n",
    "arr2 = np.array([[5, 6]])\n",
    "result = np.concatenate((arr1, arr2.T), axis=1)\n",
    "print(result)"
   ]
  },
  {
   "cell_type": "code",
   "execution_count": null,
   "id": "f3b25a33-2839-4d16-9e29-d32c391894a5",
   "metadata": {},
   "outputs": [],
   "source": [
    "# Write a function that vertically stacks multiple NumPy arrays given as a list.\n",
    "def vertical_stack_arrays(arr_list):\n",
    "    return np.vstack(arr_list)"
   ]
  },
  {
   "cell_type": "code",
   "execution_count": null,
   "id": "5eb3a651-b3fd-4373-9397-195d806f8b0e",
   "metadata": {},
   "outputs": [],
   "source": [
    "#Write a Python function using NumPy to create an array of integers within a specified range (inclusive) with a given step size.\n",
    "def generate_range_array(start, stop, step):\n",
    "    return np.arange(start, stop + 1, step)"
   ]
  },
  {
   "cell_type": "code",
   "execution_count": null,
   "id": "30e6e2fa-2130-4804-827a-19d72988674d",
   "metadata": {},
   "outputs": [],
   "source": [
    "#Write a Python function using NumPy to generate an array of 10 equally spaced values between 0 and 1 (inclusive).\n",
    "def generate_equally_spaced():\n",
    "    return np.linspace(0, 1, 10)"
   ]
  },
  {
   "cell_type": "code",
   "execution_count": null,
   "id": "ce543566-8811-4a04-bf1c-43e42ee5e69b",
   "metadata": {},
   "outputs": [],
   "source": [
    "#Write a Python function using NumPy to create an array of 5 logarithmically spaced values between 1 and 1000 (inclusive).\n",
    "def generate_log_space():\n",
    "    return np.logspace(0, 3, 5)"
   ]
  },
  {
   "cell_type": "code",
   "execution_count": null,
   "id": "2cae9512-9258-441e-b9c3-e9078d8bf6fe",
   "metadata": {},
   "outputs": [],
   "source": [
    "# Create a Pandas DataFrame using a NumPy array that contains 5 rows and 3 columns, where the values are random integers between 1 and 100.\n",
    "import pandas as pd\n",
    "\n",
    "def create_dataframe():\n",
    "    data = np.random.randint(1, 101, size=(5, 3))\n",
    "    return pd.DataFrame(data, columns=[\"A\", \"B\", \"C\"])"
   ]
  },
  {
   "cell_type": "code",
   "execution_count": null,
   "id": "e7014f6f-fe06-4432-8e94-ad4c452f4e0e",
   "metadata": {},
   "outputs": [],
   "source": [
    "#Write a function that takes a Pandas DataFrame and replaces all negative values in a specific column with zeros. Use NumPy operations within the Pandas DataFrame.\n",
    "def replace_negatives_with_zeros(df, column):\n",
    "    df[column] = np.where(df[column] < 0, 0, df[column])\n",
    "    return df"
   ]
  },
  {
   "cell_type": "code",
   "execution_count": null,
   "id": "2ee7ccdb-7ed3-4b1a-86dc-9c4fadcaf79b",
   "metadata": {},
   "outputs": [],
   "source": [
    "#Access the 3rd element from the given NumPy array.\n",
    "arr = np.array([10, 20, 30, 40, 50])\n",
    "third_element = arr[2]\n",
    "print(third_element)"
   ]
  },
  {
   "cell_type": "code",
   "execution_count": null,
   "id": "a2e49e02-6331-4482-8c4e-ba24d8e69bda",
   "metadata": {},
   "outputs": [],
   "source": [
    "#Retrieve the element at index (1, 2) from the 2D NumPy array.\n",
    "arr_2d = np.array([[1, 2, 3], [4, 5, 6], [7, 8, 9]])\n",
    "element = arr_2d[1, 2]\n",
    "print(element)"
   ]
  },
  {
   "cell_type": "code",
   "execution_count": null,
   "id": "a5f33f91-8caa-4b21-b2d8-defff42454d5",
   "metadata": {},
   "outputs": [],
   "source": [
    "#Using boolean indexing, extract elements greater than 5 from the given NumPy array.\n",
    "arr = np.array([3, 8, 2, 10, 5, 7])\n",
    "greater_than_five = arr[arr > 5]\n",
    "print(greater_than_five)"
   ]
  },
  {
   "cell_type": "code",
   "execution_count": null,
   "id": "f7db11bc-32b7-47c0-9e27-59f11fb0562e",
   "metadata": {},
   "outputs": [],
   "source": [
    "#Perform basic slicing to extract elements from index 2 to 5 (inclusive) from the given NumPy array.\n",
    "arr = np.array([1, 2, 3, 4, 5, 6, 7, 8, 9])\n",
    "sliced_array = arr[2:6]\n",
    "print(sliced_array)"
   ]
  },
  {
   "cell_type": "code",
   "execution_count": null,
   "id": "219a3d9a-ed8e-4541-9110-bff45db9444b",
   "metadata": {},
   "outputs": [],
   "source": [
    "#Slice the 2D NumPy array to extract the sub-array [[2, 3], [5, 6]] from the given array.\n",
    "arr_2d = np.array([[1, 2, 3], [4, 5, 6], [7, 8, 9]])\n",
    "sub_array = arr_2d[0:2, 1:3]\n",
    "print(sub_array)"
   ]
  },
  {
   "cell_type": "code",
   "execution_count": null,
   "id": "5d24f4cd-36ed-44e5-bff0-0e4a379bd10e",
   "metadata": {},
   "outputs": [],
   "source": [
    "#Create a NumPy function that filters elements greater than a threshold from a given 1D array using boolean indexing.\n",
    "def filter_greater_than(arr, threshold):\n",
    "    return arr[arr > threshold]"
   ]
  },
  {
   "cell_type": "code",
   "execution_count": null,
   "id": "9bef3728-6d4e-40c1-9394-420388cadb17",
   "metadata": {},
   "outputs": [],
   "source": [
    "#Develop a NumPy function that extracts specific elements from a 3D array using indices provided in three separate arrays for each dimension.\n",
    "def extract_elements_3d(arr, x_indices, y_indices, z_indices):\n",
    "    return arr[x_indices, y_indices, z_indices]"
   ]
  },
  {
   "cell_type": "code",
   "execution_count": null,
   "id": "a641be33-f3ca-481b-8617-0b8c181afe35",
   "metadata": {},
   "outputs": [],
   "source": [
    "#Write a NumPy function that returns elements from an array where both two conditions are satisfied using boolean indexing.\n",
    "def filter_with_conditions(arr, condition1, condition2):\n",
    "    return arr[condition1 & condition2]"
   ]
  },
  {
   "cell_type": "code",
   "execution_count": null,
   "id": "d324178b-0265-49e3-a191-9c3030291fee",
   "metadata": {},
   "outputs": [],
   "source": [
    "#Create a NumPy function that extracts elements from a 2D array using row and column indices provided in separate arrays.\n",
    "def extract_elements_2d(arr, row_indices, col_indices):\n",
    "    return arr[row_indices, col_indices]"
   ]
  },
  {
   "cell_type": "code",
   "execution_count": null,
   "id": "0b2654f6-4d1d-4a40-97fa-3f167c544faa",
   "metadata": {},
   "outputs": [],
   "source": [
    "#Given an array arr of shape (3, 3), add a scalar value of 5 to each element using NumPy broadcasting.\n",
    "arr = np.array([[1, 2, 3], [4, 5, 6], [7, 8, 9]])\n",
    "result = arr + 5\n",
    "print(result)"
   ]
  },
  {
   "cell_type": "code",
   "execution_count": null,
   "id": "55762245-0cb6-4c70-b46c-350a728b91bd",
   "metadata": {},
   "outputs": [],
   "source": [
    "#Consider two arrays arr1 of shape (1, 3) and arr2 of shape (3, 4). Multiply each row of arr2 by the corresponding element in arr1 using NumPy broadcasting.\n",
    "arr1 = np.array([[1, 2, 3]])\n",
    "arr2 = np.array([[4, 5, 6, 7], [8, 9, 10, 11], [12, 13, 14, 15]])\n",
    "result = arr1.T * arr2\n",
    "print(result)"
   ]
  },
  {
   "cell_type": "code",
   "execution_count": null,
   "id": "c9b6ccad-2164-4501-b87c-745dae475a4e",
   "metadata": {},
   "outputs": [],
   "source": [
    "#Given a 1D array arr1 of shape (4,) and a 2D array arr2 of shape (4, 3), add arr1 to each row of arr2 using NumPy broadcasting.\n",
    "arr1 = np.array([1, 2, 3, 4])\n",
    "arr2 = np.array([[5, 6, 7], [8, 9, 10], [11, 12, 13], [14, 15, 16]])\n",
    "result = arr2 + arr1[:, np.newaxis]\n",
    "print(result)"
   ]
  },
  {
   "cell_type": "code",
   "execution_count": null,
   "id": "cef01fd4-b174-4038-b653-13199690b579",
   "metadata": {},
   "outputs": [],
   "source": [
    "#Consider two arrays arr1 of shape (3, 1) and arr2 of shape (3, 3). Add these arrays using NumPy broadcasting.\n",
    "arr1 = np.array([[1], [2], [3]])\n",
    "arr2 = np.array([[4, 5, 6], [7, 8, 9], [10, 11, 12]])\n",
    "result = arr1 + arr2\n",
    "print(result)"
   ]
  },
  {
   "cell_type": "code",
   "execution_count": null,
   "id": "3b02fdee-b091-479b-99af-62b175e0d422",
   "metadata": {},
   "outputs": [],
   "source": [
    "#Given arrays arr1 of shape (2, 3) and arr2 of shape (2, 2), perform multiplication using NumPy broadcasting. Handle the shape incompatibility.\n",
    "def safe_broadcast_multiplication(arr1, arr2):\n",
    "    if arr1.shape[1] == arr2.shape[0]:\n",
    "        return np.matmul(arr1, arr2)\n",
    "    else:\n",
    "        raise ValueError(\"Shapes are not compatible for broadcasting.\")\n",
    "\n",
    "# Example usage:\n",
    "arr1 = np.array([[1, 2, 3], [4, 5, 6]])\n",
    "arr2 = np.array([[7, 8], [9, 10], [11, 12]])\n",
    "result = safe_broadcast_multiplication(arr1, arr2)\n",
    "print(result)"
   ]
  },
  {
   "cell_type": "code",
   "execution_count": null,
   "id": "f71d0417-6ed7-4b80-85a2-4f6a90c753dc",
   "metadata": {},
   "outputs": [],
   "source": [
    "# Calculate column-wise mean for the given array.\n",
    "arr = np.array([[1, 2, 3], [4, 5, 6]])\n",
    "column_mean = np.mean(arr, axis=0)\n",
    "print(column_mean)"
   ]
  },
  {
   "cell_type": "code",
   "execution_count": null,
   "id": "99744944-74d8-41d9-ace8-88278fe14cb3",
   "metadata": {},
   "outputs": [],
   "source": [
    "#Find maximum value in each row of the given array.\n",
    "arr = np.array([[1, 2, 3], [4, 5, 6]])\n",
    "row_max = np.max(arr, axis=1)\n",
    "print(row_max)"
   ]
  },
  {
   "cell_type": "code",
   "execution_count": null,
   "id": "31010378-b715-45fd-989d-d8f44eb2f3cf",
   "metadata": {},
   "outputs": [],
   "source": [
    "#For the given array, find indices of maximum value in each column.\n",
    "arr = np.array([[1, 2, 3], [4, 5, 6]])\n",
    "column_max_indices = np.argmax(arr, axis=0)\n",
    "print(column_max_indices)"
   ]
  },
  {
   "cell_type": "code",
   "execution_count": null,
   "id": "bed6e5ee-fd8e-43b2-af84-a1d24d168f6c",
   "metadata": {},
   "outputs": [],
   "source": [
    "#For the given array, apply custom function to calculate moving sum along rows.\n",
    "arr = np.array([[1, 2, 3], [4, 5, 6]])\n",
    "moving_sum = np.cumsum(arr, axis=1)\n",
    "print(moving_sum)"
   ]
  },
  {
   "cell_type": "code",
   "execution_count": null,
   "id": "54dd5f79-a40f-4fc3-9089-24ca2e2c1ac9",
   "metadata": {},
   "outputs": [],
   "source": [
    "# In the given array, check if all elements in each column are even.\n",
    "arr = np.array([[2, 4, 6], [3, 5, 7]])\n",
    "is_even = np.all(arr % 2 == 0, axis=0)\n",
    "print(is_even)"
   ]
  },
  {
   "cell_type": "code",
   "execution_count": null,
   "id": "95f3f62f-d449-48fd-bf26-a7a01f4da1bf",
   "metadata": {},
   "outputs": [],
   "source": [
    "#Create a function that takes a matrix as input and returns the flattened array.\n",
    "def flatten_matrix(matrix):\n",
    "    return matrix.flatten()\n",
    "\n",
    "# Example\n",
    "matrix = np.array([[1, 2], [3, 4], [5, 6]])\n",
    "print(flatten_matrix(matrix))"
   ]
  },
  {
   "cell_type": "code",
   "execution_count": null,
   "id": "9767e2b1-346d-4f07-9626-aa80e31e45d3",
   "metadata": {},
   "outputs": [],
   "source": [
    "#Write a function that concatenates two given arrays along a specified axis.\n",
    "def concatenate_arrays(arr1, arr2, axis=0):\n",
    "    return np.concatenate((arr1, arr2), axis=axis)\n",
    "\n",
    "# Example\n",
    "arr1 = np.array([[1, 2], [3, 4]])\n",
    "arr2 = np.array([[5, 6], [7, 8]])\n",
    "print(concatenate_arrays(arr1, arr2, axis=0))"
   ]
  },
  {
   "cell_type": "code",
   "execution_count": null,
   "id": "29696ff4-7fa7-4552-ac5d-0466dc1bf89c",
   "metadata": {},
   "outputs": [],
   "source": [
    "#Create a function that splits an array into multiple sub-arrays along a specified axis.\n",
    "def split_array(array, num_splits, axis=0):\n",
    "    return np.array_split(array, num_splits, axis=axis)\n",
    "\n",
    "# Example\n",
    "array = np.array([[1, 2], [3, 4], [5, 6], [7, 8], [9, 10]])\n",
    "print(split_array(array, 3, axis=0))"
   ]
  },
  {
   "cell_type": "code",
   "execution_count": null,
   "id": "22bb75a1-f9de-45c1-83dd-bcc2fad0564c",
   "metadata": {},
   "outputs": [],
   "source": [
    "#Write a function that inserts and then deletes elements from a given array at specified indices.\n",
    "def modify_array(arr, insert_indices, insert_values, delete_indices):\n",
    "    arr = np.insert(arr, insert_indices, insert_values)\n",
    "    arr = np.delete(arr, delete_indices)\n",
    "    return arr\n",
    "\n",
    "# Example\n",
    "original_array = np.array([1, 2, 3, 4, 5])\n",
    "insert_indices = [2, 4]\n",
    "insert_values = [10, 11]\n",
    "delete_indices = [1, 3]\n",
    "print(modify_array(original_array, insert_indices, insert_values, delete_indices))"
   ]
  },
  {
   "cell_type": "code",
   "execution_count": null,
   "id": "d95dccca-d939-4482-8640-49f5ae12c3ed",
   "metadata": {},
   "outputs": [],
   "source": [
    "#Create two arrays arr1 and arr2 with integers from 1 to 10. Perform element-wise addition.\n",
    "arr1 = np.random.randint(1, 11, size=5)\n",
    "arr2 = np.random.randint(1, 11, size=5)\n",
    "result = arr1 + arr2\n",
    "print(result)"
   ]
  },
  {
   "cell_type": "code",
   "execution_count": null,
   "id": "11a6224f-afb5-4c49-817e-5924f9ccbb55",
   "metadata": {},
   "outputs": [],
   "source": [
    "#Generate arr1 with sequential integers from 10 to 1 and arr2 with integers from 1 to 10. Subtract arr2 from arr1 element-wise.\n",
    "arr1 = np.arange(10, 0, -1)\n",
    "arr2 = np.arange(1, 11)\n",
    "result = arr1 - arr2\n",
    "print(result)"
   ]
  },
  {
   "cell_type": "code",
   "execution_count": null,
   "id": "1dcd5fad-c68e-4e64-b3ef-64d1ad4a8a49",
   "metadata": {},
   "outputs": [],
   "source": [
    "#Perform element-wise multiplication between two arrays arr1 and arr2.\n",
    "arr1 = np.random.randint(1, 6, size=5)\n",
    "arr2 = np.random.randint(1, 6, size=5)\n",
    "result = arr1 * arr2\n",
    "print(result)"
   ]
  },
  {
   "cell_type": "code",
   "execution_count": null,
   "id": "c80612b3-ee01-4d3f-98da-7e8e51d91b2e",
   "metadata": {},
   "outputs": [],
   "source": [
    "#Perform element-wise division between two arrays arr1 and arr2.\n",
    "arr1 = np.random.randint(2, 10, size=5)\n",
    "arr2 = np.random.randint(1, 10, size=5)\n",
    "result = arr1 / arr2\n",
    "print(result)"
   ]
  },
  {
   "cell_type": "code",
   "execution_count": null,
   "id": "42c840d5-ae3d-449f-8e0b-c21349090c56",
   "metadata": {},
   "outputs": [],
   "source": [
    "#Calculate the exponentiation of one array to the power of another element-wise.\n",
    "arr1 = np.array([1, 2, 3, 4, 5])\n",
    "arr2 = np.array([5, 4, 3, 2, 1])\n",
    "result = np.power(arr1, arr2)\n",
    "print(result)"
   ]
  },
  {
   "cell_type": "code",
   "execution_count": null,
   "id": "2693d7a9-558b-4c5c-b4f5-61b1391fd641",
   "metadata": {},
   "outputs": [],
   "source": [
    "#Count the occurrences of a specific substring within a NumPy array of strings.\n",
    "arr = np.array(['hello', 'world', 'hello', 'numpy', 'hello'])\n",
    "substring = 'hello'\n",
    "result = np.char.count(arr, substring)\n",
    "print(result)"
   ]
  },
  {
   "cell_type": "code",
   "execution_count": null,
   "id": "c321ccb2-12d3-40ab-82f0-7c16c704f636",
   "metadata": {},
   "outputs": [],
   "source": [
    "#Write a function that extracts uppercase characters from a NumPy array of strings.\n",
    "def extract_uppercase(arr):\n",
    "    return np.char.upper(arr)\n",
    "\n",
    "# Example\n",
    "arr = np.array(['Hello', 'World', 'OpenAI', 'GPT'])\n",
    "print(extract_uppercase(arr))"
   ]
  },
  {
   "cell_type": "code",
   "execution_count": null,
   "id": "d9b87286-1384-4d5c-a2d8-7296cb5e0663",
   "metadata": {},
   "outputs": [],
   "source": [
    "#Write a function that concatenates strings in a NumPy array element-wise.\n",
    "def concatenate_strings(arr1, arr2):\n",
    "    return np.char.add(arr1, arr2)\n",
    "\n",
    "# Example\n",
    "arr1 = np.array(['Hello', 'World'])\n",
    "arr2 = np.array(['Open', 'AI'])\n",
    "print(concatenate_strings(arr1, arr2))"
   ]
  },
  {
   "cell_type": "code",
   "execution_count": null,
   "id": "a9d4d272-1e94-4bf4-8247-84e8de81ee1a",
   "metadata": {},
   "outputs": [],
   "source": [
    "# Write a function that finds the length of the longest string in a NumPy array.\n",
    "def longest_string_length(arr):\n",
    "    return np.max(np.char.str_len(arr))\n",
    "\n",
    "# Example\n",
    "arr = np.array(['apple', 'banana', 'grape', 'pineapple'])\n",
    "print(longest_string_length(arr))"
   ]
  },
  {
   "cell_type": "code",
   "execution_count": null,
   "id": "3ca2694a-dc67-440a-b8e8-c2db594b1e1d",
   "metadata": {},
   "outputs": [],
   "source": [
    "#Compute the mean, median, variance, and standard deviation of a dataset.\n",
    "data = np.random.randint(1, 1001, size=100)\n",
    "mean = np.mean(data)\n",
    "median = np.median(data)\n",
    "variance = np.var(data)\n",
    "std_dev = np.std(data)\n",
    "print(f\"Mean: {mean}, Median: {median}, Variance: {variance}, Std Dev: {std_dev}\")"
   ]
  },
  {
   "cell_type": "code",
   "execution_count": null,
   "id": "4a2a0239-52ab-45c6-b27f-f2abca0a69d6",
   "metadata": {},
   "outputs": [],
   "source": [
    "# Generate an array of 50 random numbers between 1 and 100. Find the 25th and 75th percentiles.\n",
    "data = np.random.randint(1, 101, size=50)\n",
    "percentile_25 = np.percentile(data, 25)\n",
    "percentile_75 = np.percentile(data, 75)\n",
    "print(f\"25th Percentile: {percentile_25}, 75th Percentile: {percentile_75}\")"
   ]
  },
  {
   "cell_type": "code",
   "execution_count": null,
   "id": "887589c6-3242-4fa7-86d4-9b295ecd7572",
   "metadata": {},
   "outputs": [],
   "source": [
    "#Compute the correlation coefficient between two arrays.\n",
    "x = np.random.rand(10)\n",
    "y = np.random.rand(10)\n",
    "correlation = np.corrcoef(x, y)\n",
    "print(correlation)"
   ]
  },
  {
   "cell_type": "code",
   "execution_count": null,
   "id": "8a276ba5-1d43-42ae-921d-398dee0fd3a7",
   "metadata": {},
   "outputs": [],
   "source": [
    "# Perform matrix multiplication using NumPy's dot function.\n",
    "matrix1 = np.array([[1, 2], [3, 4]])\n",
    "matrix2 = np.array([[5, 6], [7, 8]])\n",
    "result = np.dot(matrix1, matrix2)\n",
    "print(result)"
   ]
  },
  {
   "cell_type": "code",
   "execution_count": null,
   "id": "b9ff4558-84ac-4fcb-800a-cadd8a6155d4",
   "metadata": {},
   "outputs": [],
   "source": [
    "#Calculate percentiles for an array of 50 integers between 10 and 100.\n",
    "data = np.random.randint(10, 101, size=50)\n",
    "percentiles = {\n",
    "    '10th': np.percentile(data, 10),\n",
    "    '50th': np.percentile(data, 50),\n",
    "    '90th': np.percentile(data, 90),\n",
    "}\n",
    "print(percentiles)"
   ]
  },
  {
   "cell_type": "code",
   "execution_count": null,
   "id": "10fef084-433f-49a4-9a18-53d17bd8bf19",
   "metadata": {},
   "outputs": [],
   "source": [
    "# Find the index of a specific element in an array.\n",
    "arr = np.array([10, 20, 30, 40, 50])\n",
    "index = np.where(arr == 30)[0][0]\n",
    "print(index)"
   ]
  },
  {
   "cell_type": "code",
   "execution_count": null,
   "id": "2401eb5e-7722-427a-9149-5ce499eab8f3",
   "metadata": {},
   "outputs": [],
   "source": [
    "#Generate a random array and sort it in ascending order.\n",
    "arr = np.random.randint(1, 100, size=10)\n",
    "sorted_arr = np.sort(arr)\n",
    "print(sorted_arr)\n"
   ]
  },
  {
   "cell_type": "code",
   "execution_count": null,
   "id": "5983f585-dd29-4e3e-a3f6-6ac24710462e",
   "metadata": {},
   "outputs": [],
   "source": [
    "#Filter elements >20 in the given array.\n",
    "arr = np.array([12, 25, 6, 42, 8, 30])\n",
    "filtered = arr[arr > 20]\n",
    "print(filtered)"
   ]
  },
  {
   "cell_type": "code",
   "execution_count": null,
   "id": "56932818-7256-4582-a0ca-ad84b6b5fb5e",
   "metadata": {},
   "outputs": [],
   "source": [
    "#Filter elements divisible by 3.\n",
    "arr = np.array([1, 5, 8, 12, 15])\n",
    "filtered = arr[arr % 3 == 0]\n",
    "print(filtered)"
   ]
  },
  {
   "cell_type": "code",
   "execution_count": null,
   "id": "04cbbdd3-cc48-493c-94d8-e7b2e3d6b21b",
   "metadata": {},
   "outputs": [],
   "source": [
    "#Filter elements where 20 ≤ x ≤ 40.\n",
    "arr = np.array([10, 20, 30, 40, 50])\n",
    "filtered = arr[(arr >= 20) & (arr <= 40)]\n",
    "print(filtered)"
   ]
  },
  {
   "cell_type": "code",
   "execution_count": null,
   "id": "fb348813-63db-4ae5-b3fc-803fba1470ec",
   "metadata": {},
   "outputs": [],
   "source": [
    "#Check the byte order of a NumPy array.\n",
    "arr = np.array([1, 2, 3])\n",
    "byte_order = arr.dtype.byteorder\n",
    "print(byte_order)"
   ]
  }
 ],
 "metadata": {
  "kernelspec": {
   "display_name": "Python [conda env:base]",
   "language": "python",
   "name": "conda-base-py"
  },
  "language_info": {
   "codemirror_mode": {
    "name": "ipython",
    "version": 3
   },
   "file_extension": ".py",
   "mimetype": "text/x-python",
   "name": "python",
   "nbconvert_exporter": "python",
   "pygments_lexer": "ipython3",
   "version": "3.12.7"
  }
 },
 "nbformat": 4,
 "nbformat_minor": 5
}
