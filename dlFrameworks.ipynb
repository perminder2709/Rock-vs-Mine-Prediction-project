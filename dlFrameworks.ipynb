{
 "cells": [
  {
   "cell_type": "code",
   "execution_count": null,
   "id": "18de34b6-c1d0-47ff-9581-9405ee2df13b",
   "metadata": {},
   "outputs": [],
   "source": [
    "#What is TensorFlow 2.0, and how is it different from TensorFlow 1.x?\n",
    "TensorFlow 2.0 simplifies model building with eager execution, integrates tightly with Keras, and provides better support for dynamic computation graphs."
   ]
  },
  {
   "cell_type": "code",
   "execution_count": null,
   "id": "9102fa15-c8a1-470e-81a9-a3565b0f6b02",
   "metadata": {},
   "outputs": [],
   "source": [
    "#How do you install TensorFlow 2.0?\n",
    "pip install tensorflow"
   ]
  },
  {
   "cell_type": "code",
   "execution_count": null,
   "id": "9372c5c4-2720-48dc-8df2-b84a28e75d48",
   "metadata": {},
   "outputs": [],
   "source": [
    "#What is the primary function of the tf.function in TensorFlow 2.0?\n",
    "It converts a Python function into a TensorFlow computation graph for performance optimization."
   ]
  },
  {
   "cell_type": "code",
   "execution_count": null,
   "id": "fa44fcb0-8480-4077-94b2-84de999f2085",
   "metadata": {},
   "outputs": [],
   "source": [
    "#What is the purpose of the Model class in TensorFlow 2.0?\n",
    "It's used in Keras to define and manage layers, training, and evaluation in a structured way."
   ]
  },
  {
   "cell_type": "code",
   "execution_count": null,
   "id": "42a554bd-1cbc-497d-9b54-a22c7e968918",
   "metadata": {},
   "outputs": [],
   "source": [
    "#How do you create a neural network using TensorFlow 2.0?\n",
    "Using Keras API:\n",
    "model = tf.keras.Sequential([\n",
    "    tf.keras.layers.Dense(64, activation='relu'),\n",
    "    tf.keras.layers.Dense(10)\n",
    "])"
   ]
  },
  {
   "cell_type": "code",
   "execution_count": null,
   "id": "6a8c53ee-8478-4b02-ab72-8fe204d054ad",
   "metadata": {},
   "outputs": [],
   "source": [
    "#What is the importance of Tensor Space in TensorFlow?\n",
    "It defines the shape and data type of tensors, essential for constructing models with compatible dimensions."
   ]
  },
  {
   "cell_type": "code",
   "execution_count": null,
   "id": "636c5be1-d862-485c-9b2a-4a89de9d8b74",
   "metadata": {},
   "outputs": [],
   "source": [
    "#How can TensorBoard be integrated with TensorFlow 2.0?\n",
    "Via tf.summary API and running:\n",
    "tensorboard --logdir=logs/"
   ]
  },
  {
   "cell_type": "code",
   "execution_count": null,
   "id": "61a42d00-296e-47b9-8f14-b4f99648e65e",
   "metadata": {},
   "outputs": [],
   "source": [
    "#What is the purpose of TensorFlow Playground?\n",
    "It’s an interactive web tool to visualize how neural networks learn."
   ]
  },
  {
   "cell_type": "code",
   "execution_count": null,
   "id": "e7155254-d283-41d2-9d90-b602d92fcb22",
   "metadata": {},
   "outputs": [],
   "source": [
    "#What is Netron, and how is it useful for deep learning models?\n",
    "Netron is a viewer for neural network models that helps visualize and debug model architecture."
   ]
  },
  {
   "cell_type": "code",
   "execution_count": null,
   "id": "7fd7d984-d0e5-464b-b1bc-50e59cdce712",
   "metadata": {},
   "outputs": [],
   "source": [
    "#What is the difference between TensorFlow and PyTorch?\n",
    "TensorFlow uses static computation graphs by default (TF 1.x), while PyTorch uses dynamic computation graphs (eager execution)."
   ]
  },
  {
   "cell_type": "code",
   "execution_count": null,
   "id": "7c8114ca-33aa-4786-ba39-435e6ee312f7",
   "metadata": {},
   "outputs": [],
   "source": [
    "#ow do you install PyTorch?\n",
    "Visit pytorch.org and select your system configuration. Example:\n",
    "pip install torch torchvision"
   ]
  },
  {
   "cell_type": "code",
   "execution_count": null,
   "id": "74d02ca9-deab-42e8-9fd6-a353c61fc175",
   "metadata": {},
   "outputs": [],
   "source": [
    "#What is the basic structure of a PyTorch neural network?\n",
    "Define a class inheriting from nn.Module and override __init__ and forward."
   ]
  },
  {
   "cell_type": "code",
   "execution_count": null,
   "id": "3a55be91-0c40-4e19-91fb-8dfb347fc905",
   "metadata": {},
   "outputs": [],
   "source": [
    "#What is the significance of tensors in PyTorch?\n",
    "Tensors are the basic data structure, similar to NumPy arrays, but with GPU acceleration."
   ]
  },
  {
   "cell_type": "code",
   "execution_count": null,
   "id": "0e43af91-bb72-426c-87f0-17d9bd556f5a",
   "metadata": {},
   "outputs": [],
   "source": [
    "#What is the difference between torch.Tensor and torch.cuda.Tensor in PyTorch?\n",
    "torch.Tensor is on the CPU; torch.cuda.Tensor is stored on the GPU for faster computation."
   ]
  },
  {
   "cell_type": "code",
   "execution_count": null,
   "id": "69ddfa14-9804-475e-a1f7-3e8a77ce1585",
   "metadata": {},
   "outputs": [],
   "source": [
    "#What is the purpose of the torch.optim module in PyTorch?\n",
    "It provides optimization algorithms like SGD and Adam for training neural networks."
   ]
  },
  {
   "cell_type": "code",
   "execution_count": null,
   "id": "a25ff99c-10b7-4854-a459-ae2a722656b9",
   "metadata": {},
   "outputs": [],
   "source": [
    "#What are some common activation functions used in neural networks?\n",
    "ReLU, Sigmoid, Tanh, Softmax, Leaky ReLU."
   ]
  },
  {
   "cell_type": "code",
   "execution_count": null,
   "id": "81880086-91d8-4b05-b6ae-3d98d097bd63",
   "metadata": {},
   "outputs": [],
   "source": [
    "#What is the difference between torch.nn.Module and torch.nn.Sequential in PyTorch?\n",
    "\n",
    "nn.Module allows custom forward logic.\n",
    "\n",
    "nn.Sequential is a container to stack layers linearly."
   ]
  },
  {
   "cell_type": "code",
   "execution_count": null,
   "id": "6b84fd0e-e7c0-49b4-94f8-a9b285ca1364",
   "metadata": {},
   "outputs": [],
   "source": [
    "#How can you monitor training progress in TensorFlow 2.0?\n",
    "Use TensorBoard with tf.summary to log loss, accuracy, etc."
   ]
  },
  {
   "cell_type": "code",
   "execution_count": null,
   "id": "5154e9b2-4ede-4097-b0ea-d9b8be055c01",
   "metadata": {},
   "outputs": [],
   "source": [
    "#How does the Keras API fit into TensorFlow 2.0?\n",
    "Keras is the official high-level API in TF 2.0, enabling easy model creation and training."
   ]
  },
  {
   "cell_type": "code",
   "execution_count": null,
   "id": "6b1b678f-a194-4e65-b23c-405b70d38a64",
   "metadata": {},
   "outputs": [],
   "source": [
    "#What is an example of a deep learning project that can be implemented using TensorFlow 2.0?\n",
    "Image classification using CNNs on the CIFAR-10 dataset."
   ]
  },
  {
   "cell_type": "code",
   "execution_count": null,
   "id": "745405fe-b154-4c5c-880d-e2590f7a85fc",
   "metadata": {},
   "outputs": [],
   "source": [
    "#How do you install and verify that TensorFlow 2.0 was installed successfully?\n",
    "Install:\n",
    "pip install tensorflow\n",
    "Verify:\n",
    "import tensorflow as tf\n",
    "print(tf.__version__)  # Should print 2.x.x"
   ]
  },
  {
   "cell_type": "code",
   "execution_count": null,
   "id": "e0192768-d3c6-483c-84a8-aca6f0aedd31",
   "metadata": {},
   "outputs": [],
   "source": [
    "#How can you define a simple function in TensorFlow 2.0 to perform addition?\n",
    "import tensorflow as tf\n",
    "\n",
    "@tf.function\n",
    "def add(a, b):\n",
    "    return a + b\n",
    "\n",
    "print(add(3, 5).numpy())  # Output: 8"
   ]
  },
  {
   "cell_type": "code",
   "execution_count": null,
   "id": "3129bc9a-1e16-4f78-b2cc-bbe351dafa73",
   "metadata": {},
   "outputs": [],
   "source": [
    "#How can you create a simple neural network in TensorFlow 2.0 with one hidden layer?\n",
    "model = tf.keras.Sequential([\n",
    "    tf.keras.layers.Dense(64, activation='relu', input_shape=(10,)),\n",
    "    tf.keras.layers.Dense(1)\n",
    "])\n",
    "model.compile(optimizer='adam', loss='mse')"
   ]
  },
  {
   "cell_type": "code",
   "execution_count": null,
   "id": "71f6e1a6-00fb-4645-a6d1-33f02e0abecc",
   "metadata": {},
   "outputs": [],
   "source": [
    "#How can you visualize the training progress using TensorFlow and Matplotlib?\n",
    "import matplotlib.pyplot as plt\n",
    "\n",
    "history = model.fit(x_train, y_train, epochs=10, validation_data=(x_val, y_val))\n",
    "\n",
    "plt.plot(history.history['loss'], label='loss')\n",
    "plt.plot(history.history['val_loss'], label='val_loss')\n",
    "plt.legend()\n",
    "plt.show()"
   ]
  },
  {
   "cell_type": "code",
   "execution_count": null,
   "id": "e4383370-10f3-4f52-9b9c-6de0418c8698",
   "metadata": {},
   "outputs": [],
   "source": [
    "#How do you install PyTorch and verify the PyTorch installation?\n",
    "Install:\n",
    "pip install torch torchvision\n",
    "Verify:\n",
    "import torch\n",
    "print(torch.__version__)\n",
    "print(torch.cuda.is_available())  # To check GPU availability"
   ]
  },
  {
   "cell_type": "code",
   "execution_count": null,
   "id": "7942ac42-d763-414a-80c1-05dade240149",
   "metadata": {},
   "outputs": [],
   "source": [
    "#"
   ]
  }
 ],
 "metadata": {
  "kernelspec": {
   "display_name": "Python [conda env:base]",
   "language": "python",
   "name": "conda-base-py"
  },
  "language_info": {
   "codemirror_mode": {
    "name": "ipython",
    "version": 3
   },
   "file_extension": ".py",
   "mimetype": "text/x-python",
   "name": "python",
   "nbconvert_exporter": "python",
   "pygments_lexer": "ipython3",
   "version": "3.12.7"
  }
 },
 "nbformat": 4,
 "nbformat_minor": 5
}
