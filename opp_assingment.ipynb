{
 "cells": [
  {
   "cell_type": "code",
   "execution_count": null,
   "id": "c7d8ca26-c381-4d24-9fe5-ee42ea6c0aa6",
   "metadata": {},
   "outputs": [],
   "source": [
    "#Explain the importance of Functions?\n",
    "\n",
    "\n",
    "#Functions are a fundamental concept in programming and mathematics, and they play a crucial role in organizing and simplifying code."
   ]
  },
  {
   "cell_type": "code",
   "execution_count": null,
   "id": "b482e9b1-64aa-4d5b-b34e-42f82f74eafb",
   "metadata": {},
   "outputs": [],
   "source": [
    "# Write a basic function to greet students?\n",
    "\n",
    "\n",
    "\n",
    "#print(f\"Hello, {name}! Welcome to the class.\")"
   ]
  },
  {
   "cell_type": "code",
   "execution_count": null,
   "id": "d0467c65-0934-4a6b-95a1-327a09376657",
   "metadata": {},
   "outputs": [],
   "source": [
    "#What is the difference between print and return statements\n",
    "\n",
    "\n",
    "#print Statement\n",
    "#Purpose: Displays output to the screen (console).\n",
    "\n",
    "#Used for: Debugging, showing messages to the user.\n",
    "\n",
    "#Does not affect the flow or result of a function's value.\n",
    "\n",
    "#return Statement\n",
    "#Purpose: Sends a value back to the caller of the function.\n",
    "\n",
    "#Used for: Getting results from a function to use elsewhere.\n",
    "\n",
    "#Ends the function’s execution and outputs a result."
   ]
  },
  {
   "cell_type": "code",
   "execution_count": null,
   "id": "5cf8b782-7f2d-4401-8b78-4486cdf8e0a0",
   "metadata": {},
   "outputs": [],
   "source": [
    "# What are *args and **kwargs?\n",
    "\n",
    "\n",
    "#*args (Positional Arguments)\n",
    "#Allows a function to accept any number of positional arguments (as a tuple).\n",
    "\n",
    "#Useful when you're not sure how many arguments will be passed.\n",
    "\n",
    "\n",
    "#**kwargs (Keyword Arguments)\n",
    "#Allows a function to accept any number of named keyword arguments (as a dictionary).\n",
    "\n",
    "#Useful when you want to handle named parameters dynamically.\n",
    "\n"
   ]
  },
  {
   "cell_type": "code",
   "execution_count": null,
   "id": "d5d8922b-c821-4325-80b2-64f21ec50043",
   "metadata": {},
   "outputs": [],
   "source": [
    "# Explain the iterator function?\n",
    "\n",
    "#An iterator is an object in Python that:\n",
    "\n",
    "#Can be looped over (like in a for loop),\n",
    "\n",
    "#Keeps track of where it is in a sequence,\n",
    "\n",
    "#Returns data one element at a time using the next() function."
   ]
  },
  {
   "cell_type": "code",
   "execution_count": null,
   "id": "eb7c6485-63a3-4f75-924c-9ebbadb404e9",
   "metadata": {},
   "outputs": [],
   "source": [
    "#Write a code that generates the squares of numbers from 1 to n using a generator?\n",
    "\n",
    "\n",
    "\n",
    "#def generate_squares(n):\n",
    "    for i in range(1, n + 1):\n",
    "        yield i ** 2\n"
   ]
  },
  {
   "cell_type": "code",
   "execution_count": null,
   "id": "4aadda9f-8caf-4ddd-a72e-efbfd73bcd89",
   "metadata": {},
   "outputs": [],
   "source": [
    "# Write a code that generates palindromic numbers up to n using a generator?\n",
    "\n",
    "#def generate_palindromes(n):\n",
    "    for i in range(1, n + 1):\n",
    "        if str(i) == str(i)[::-1]:\n",
    "            yield i\n"
   ]
  },
  {
   "cell_type": "code",
   "execution_count": null,
   "id": "b9c3bd54-54c7-4974-ad6c-5ae473a8c8db",
   "metadata": {},
   "outputs": [],
   "source": [
    "#Write a code that generates even numbers from 2 to n using a generator?\n",
    "\n",
    "#def generate_evens(n):\n",
    "    for i in range(2, n + 1, 2):\n",
    "        yield i\n",
    "\n"
   ]
  },
  {
   "cell_type": "code",
   "execution_count": 14,
   "id": "aa8f0744-5cef-4147-84a9-d876746f3cae",
   "metadata": {},
   "outputs": [],
   "source": [
    "#Write a code that generates powers of two up to n using a generator?\n",
    "\n",
    "\n",
    "def generate_powers_of_two(n):\n",
    "    power = 0\n",
    "    while (value := 2 ** power) <= n:\n",
    "        yield value\n",
    "        power += 1\n",
    "\n",
    "\n"
   ]
  },
  {
   "cell_type": "code",
   "execution_count": 18,
   "id": "2bda8fa5-0972-45ab-82c3-125875f98f70",
   "metadata": {},
   "outputs": [
    {
     "ename": "IndentationError",
     "evalue": "unexpected indent (2095342876.py, line 5)",
     "output_type": "error",
     "traceback": [
      "\u001b[1;36m  Cell \u001b[1;32mIn[18], line 5\u001b[1;36m\u001b[0m\n\u001b[1;33m    def is_prime(num):\u001b[0m\n\u001b[1;37m    ^\u001b[0m\n\u001b[1;31mIndentationError\u001b[0m\u001b[1;31m:\u001b[0m unexpected indent\n"
     ]
    }
   ],
   "source": [
    "# Write a code that generates prime numbers up to n using a generator?\n",
    "\n",
    "#def generate_primes(n):\n",
    "    # Helper function to check if a number is prime\n",
    "    def is_prime(num):\n",
    "        if num <= 1:\n",
    "            return False\n",
    "        for i in range(2, int(num ** 0.5) + 1):\n",
    "            if num % i == 0:\n",
    "                return False\n",
    "        return True\n",
    "    \n",
    "    # Yield primes up to n\n",
    "    for num in range(2, n + 1):\n",
    "        if is_prime(num):\n",
    "            yield num\n",
    "\n"
   ]
  },
  {
   "cell_type": "code",
   "execution_count": 22,
   "id": "bd7502d6-aa07-44c3-92b1-db8d49a41309",
   "metadata": {},
   "outputs": [],
   "source": [
    "#Write a code that uses a lambda function to calculate the sum of two numbers?\n",
    "\n",
    "\n",
    "sum_numbers = lambda a, b: a + b\n",
    "\n"
   ]
  },
  {
   "cell_type": "code",
   "execution_count": null,
   "id": "b1e611c6-c85c-46de-bb96-28de84ad6488",
   "metadata": {},
   "outputs": [],
   "source": [
    "#Write a code that uses a lambda function to calculate the square of a given number?\n",
    "\n",
    "\n",
    "#square = lambda x: x ** 2\n"
   ]
  },
  {
   "cell_type": "code",
   "execution_count": null,
   "id": "3a7b1ef3-aa9a-45e3-b946-980d056f807d",
   "metadata": {},
   "outputs": [],
   "source": [
    "#Write a code that uses a lambda function to check whether a given number is even or odd?\n",
    "\n",
    "\n",
    "#check_even_odd = lambda x: \"Even\" if x % 2 == 0 else \"Odd\"\n"
   ]
  },
  {
   "cell_type": "code",
   "execution_count": null,
   "id": "ce00335a-18fb-48fb-a475-af00415c16e3",
   "metadata": {},
   "outputs": [],
   "source": [
    "#Write a code that uses a lambda function to concatenate two strings?\n",
    "\n",
    "\n",
    "#concatenate_strings = lambda str1, str2: str1 + str2\n"
   ]
  },
  {
   "cell_type": "code",
   "execution_count": null,
   "id": "626ec7bc-0cbc-4b31-b1e1-d691063d06de",
   "metadata": {},
   "outputs": [],
   "source": [
    "#Write a code that uses a lambda function to find the maximum of three given numbers?\n",
    "\n",
    "\n",
    "\n",
    "#max_of_three = lambda a, b, c: max(a, b, c)\n"
   ]
  },
  {
   "cell_type": "code",
   "execution_count": null,
   "id": "1dea074c-bb4d-496e-b6c6-93795689224e",
   "metadata": {},
   "outputs": [],
   "source": [
    "#Write a code that generates the squares of even numbers from a given list?\n",
    "\n",
    "\n",
    "#def square_even_numbers(lst):\n",
    "    return [x ** 2 for x in lst if x % 2 == 0]\n"
   ]
  },
  {
   "cell_type": "code",
   "execution_count": null,
   "id": "0e989d54-75c3-4315-aa3b-f198d50cf659",
   "metadata": {},
   "outputs": [],
   "source": [
    "#Write a code that calculates the product of positive numbers from a given list?\n",
    "\n",
    "\n",
    "\n",
    "#import math\n",
    "\n",
    "def product_of_positive_numbers(lst):\n",
    "    positive_numbers = [x for x in lst if x > 0]\n",
    "    if positive_numbers:\n",
    "        return math.prod(positive_numbers)  # Using math.prod() to get the product\n",
    "    else:\n",
    "        return 0  # Return 0 if there are no positive numbers\n"
   ]
  },
  {
   "cell_type": "code",
   "execution_count": null,
   "id": "ba6ba266-828f-4119-a56c-be524905559f",
   "metadata": {},
   "outputs": [],
   "source": [
    "#Write a code that doubles the values of odd numbers from a given list?\n",
    "\n",
    "\n",
    "#def double_odd_numbers(lst):\n",
    "    return [x * 2 if x % 2 != 0 else x for x in lst]\n"
   ]
  },
  {
   "cell_type": "code",
   "execution_count": null,
   "id": "0e6720ce-1d40-486a-8360-650f2a0e786c",
   "metadata": {},
   "outputs": [],
   "source": [
    "#Write a code that calculates the sum of cubes of numbers from a given list?\n",
    "\n",
    "\n",
    "#def sum_of_cubes(lst):\n",
    "    return sum(x ** 3 for x in lst)\n"
   ]
  },
  {
   "cell_type": "code",
   "execution_count": null,
   "id": "eb6ab3a7-97ef-498b-9289-1b5b151014f0",
   "metadata": {},
   "outputs": [],
   "source": [
    "#Write a code that filters out prime numbers from a given list?\n",
    "\n",
    "#def is_prime(num):\n",
    "    if num <= 1:\n",
    "        return False\n",
    "    for i in range(2, int(num ** 0.5) + 1):\n",
    "        if num % i == 0:\n",
    "            return False\n",
    "    return True\n",
    "\n",
    "def filter_primes(lst):\n",
    "    return [x for x in lst if is_prime(x)]\n"
   ]
  },
  {
   "cell_type": "code",
   "execution_count": null,
   "id": "94725bc1-d577-4f2e-bfd2-dc6136e4ebca",
   "metadata": {},
   "outputs": [],
   "source": [
    "#Write a code that uses a lambda function to calculate the sum of two numbers?\n",
    "\n",
    "\n",
    "#sum_of_two = lambda a, b: a + b\n"
   ]
  },
  {
   "cell_type": "code",
   "execution_count": null,
   "id": "18f1a5dd-5397-4d51-8046-540c6360facc",
   "metadata": {},
   "outputs": [],
   "source": [
    "#Write a code that uses a lambda function to calculate the square of a given number?\n",
    "\n",
    "\n",
    "\n",
    "#square = lambda x: x ** 2\n"
   ]
  },
  {
   "cell_type": "code",
   "execution_count": null,
   "id": "0536a706-a798-496c-9f79-d09ac848d638",
   "metadata": {},
   "outputs": [],
   "source": [
    "#Write a code that uses a lambda function to check whether a given number is even or odd?\n",
    "\n",
    "\n",
    "#even_or_odd = lambda x: \"Even\" if x % 2 == 0 else \"Odd\"\n"
   ]
  },
  {
   "cell_type": "code",
   "execution_count": null,
   "id": "ea4c5e53-3ab9-4cda-b2fa-3a7a34089501",
   "metadata": {},
   "outputs": [],
   "source": [
    "#Write a code that uses a lambda function to concatenate two strings?\n",
    "\n",
    "\n",
    "#concatenate = lambda str1, str2: str1 + str2\n"
   ]
  },
  {
   "cell_type": "code",
   "execution_count": null,
   "id": "6d42bbfb-de48-44b2-ba66-1e858c922380",
   "metadata": {},
   "outputs": [],
   "source": [
    "#Write a code that uses a lambda function to find the maximum of three given numbers?\n",
    "\n",
    "\n",
    "\n",
    "#max_of_three = lambda a, b, c: max(a, b, c)\n"
   ]
  },
  {
   "cell_type": "code",
   "execution_count": null,
   "id": "3c6010d9-1edf-4f8f-992d-351e5cbe184b",
   "metadata": {},
   "outputs": [],
   "source": [
    "#What is encapsulation in OOP?\n",
    "\n",
    "\n",
    "#Encapsulation is one of the fundamental principles of Object-Oriented Programming (OOP). It refers to the concept of bundling the data (variables) and the methods (functions) that operate on that data into a single unit or class. In addition, it hides the internal state of an object and only exposes a controlled interface for interaction. This is done to protect the object's data and prevent external interference and misuse."
   ]
  },
  {
   "cell_type": "code",
   "execution_count": null,
   "id": "88bbfec8-31ee-4ae0-a6de-ba3afb18d1bf",
   "metadata": {},
   "outputs": [],
   "source": [
    "# Explain the use of access modifiers in Python classes?\n",
    "\n",
    "\n",
    "#In Python, access modifiers are used to control the visibility and accessibility of class attributes and methods. These modifiers help enforce encapsulation, allowing you to protect the internal state of an object and expose only necessary parts of it."
   ]
  },
  {
   "cell_type": "code",
   "execution_count": null,
   "id": "65f384e0-25b9-446e-8f3d-39e183650b41",
   "metadata": {},
   "outputs": [],
   "source": [
    "#What is inheritance in OOP?\n",
    "\n",
    "\n",
    "#Inheritance is one of the core concepts in Object-Oriented Programming (OOP). It allows a class (called a child class or subclass) to inherit properties and behaviors (attributes and methods) from another class (called a parent class or superclass). This helps in code reusability and extending functionality without having to rewrite common code"
   ]
  },
  {
   "cell_type": "code",
   "execution_count": null,
   "id": "60bd8d5b-d0f5-4874-86ed-31ff9a9021fb",
   "metadata": {},
   "outputs": [],
   "source": [
    "# Define polymorphism in OOP?\n",
    "\n",
    "\n",
    "#Polymorphism is one of the core concepts in Object-Oriented Programming (OOP). It literally means \"many forms\" and refers to the ability of different objects to respond to the same method call in different ways. In simpler terms, polymorphism allows objects of different classes to be treated as objects of a common superclass, but each subclass can implement its own version of the method that is called."
   ]
  },
  {
   "cell_type": "code",
   "execution_count": null,
   "id": "eb386049-6903-4be8-948c-10e5cd0a592b",
   "metadata": {},
   "outputs": [],
   "source": [
    "#Explain method overriding in Python?\n",
    "\n",
    "\n",
    "#Method Overriding is a feature in Object-Oriented Programming (OOP) where a subclass (child class) provides its own implementation of a method that is already defined in its parent class (superclass). The child class method with the same name as the parent class method overrides the behavior of the parent class method for objects of the child class."
   ]
  },
  {
   "cell_type": "code",
   "execution_count": null,
   "id": "c02bce77-fe20-4ce2-bfe0-dff88a11aa99",
   "metadata": {},
   "outputs": [],
   "source": [
    "#Define a parent class Animal with a method make_sound that prints \"Generic animal sound\". Create a child class Dog inheriting from Animal with a method make_sound that prints \"Woof!\n",
    "\n",
    "\n",
    "\n",
    "#Animal is the base class with a method make_sound.\n",
    "\n",
    "#Dog inherits from Animal and overrides the make_sound method to provide specific behavior for dogs.\n",
    "\n",
    "## Parent class\n",
    "class Animal:\n",
    "    def make_sound(self):\n",
    "        print(\"Generic animal sound\")\n",
    "\n",
    "# Child class\n",
    "class Dog(Animal):\n",
    "    def make_sound(self):\n",
    "        print(\"Woof!\")\n",
    "\n",
    "\n",
    "\n",
    "\n",
    "\n"
   ]
  },
  {
   "cell_type": "code",
   "execution_count": null,
   "id": "d40163fb-96e8-4f07-978e-b671e921a5c4",
   "metadata": {},
   "outputs": [],
   "source": [
    "#Define a method move in the Animal class that prints \"Animal moves\". Override the move method in the Dog class to print \"Dog runs.?\n",
    "\n",
    "\n",
    "## Parent class\n",
    "class Animal:\n",
    "    def make_sound(self):\n",
    "        print(\"Generic animal sound\")\n",
    "\n",
    "    def move(self):\n",
    "        print(\"Animal moves\")\n",
    "\n",
    "# Child class\n",
    "class Dog(Animal):\n",
    "    def make_sound(self):\n",
    "        print(\"Woof!\")\n",
    "\n",
    "    def move(self):\n",
    "        print(\"Dog runs\")\n",
    "\n"
   ]
  },
  {
   "cell_type": "code",
   "execution_count": null,
   "id": "79dc47bf-c591-4af6-9309-4fd79ebc0bb5",
   "metadata": {},
   "outputs": [],
   "source": [
    "#Create a class Mammal with a method reproduce that prints \"Giving birth to live young.\" Create a class DogMammal inheriting from both Dog and Mammal?\n",
    "\n",
    "\n",
    "## Parent class\n",
    "class Animal:\n",
    "    def make_sound(self):\n",
    "        print(\"Generic animal sound\")\n",
    "\n",
    "    def move(self):\n",
    "        print(\"Animal moves\")\n",
    "\n",
    "# Child class of Animal\n",
    "class Dog(Animal):\n",
    "    def make_sound(self):\n",
    "        print(\"Woof!\")\n",
    "\n",
    "    def move(self):\n",
    "        print(\"Dog runs\")\n",
    "\n",
    "# Another parent class\n",
    "class Mammal:\n",
    "    def reproduce(self):\n",
    "        print(\"Giving birth to live young.\")\n",
    "\n",
    "# Child class inheriting from Dog and Mammal\n",
    "class DogMammal(Dog, Mammal):\n",
    "    pass\n",
    "\n"
   ]
  },
  {
   "cell_type": "code",
   "execution_count": null,
   "id": "c0833e7d-1bb6-4d30-af4b-44676a773c9a",
   "metadata": {},
   "outputs": [],
   "source": [
    "#Create a class GermanShepherd inheriting from Dog and override the make_sound method to print\"Bark\"?\n",
    "\n",
    "\n",
    "## Base class\n",
    "class Animal:\n",
    "    def make_sound(self):\n",
    "        print(\"Generic animal sound\")\n",
    "\n",
    "    def move(self):\n",
    "        print(\"Animal moves\")\n",
    "\n",
    "# Inherited class from Animal\n",
    "class Dog(Animal):\n",
    "    def make_sound(self):\n",
    "        print(\"Woof!\")\n",
    "\n",
    "    def move(self):\n",
    "        print(\"Dog runs\")\n",
    "\n",
    "# GermanShepherd inherits from Dog and overrides make_sound\n",
    "class GermanShepherd(Dog):\n",
    "    def make_sound(self):\n",
    "        print(\"Bark\")\n"
   ]
  },
  {
   "cell_type": "code",
   "execution_count": null,
   "id": "0d967f39-984f-41be-b386-4e2778d93bc2",
   "metadata": {},
   "outputs": [],
   "source": [
    "#Define constructors in both the Animal and Dog classes with different initialization parameters?\n",
    "\n",
    "\n",
    "## Base class\n",
    "class Animal:\n",
    "    def __init__(self, species):\n",
    "        self.species = species\n",
    "        print(f\"Animal created. Species: {self.species}\")\n",
    "\n",
    "    def make_sound(self):\n",
    "        print(\"Generic animal sound\")\n",
    "\n",
    "    def move(self):\n",
    "        print(\"Animal moves\")\n",
    "\n",
    "# Derived class\n",
    "class Dog(Animal):\n",
    "    def __init__(self, name, breed):\n",
    "        # Call the constructor of Animal with a fixed species name\n",
    "        super().__init__(species=\"Dog\")\n",
    "        self.name = name\n",
    "        self.breed = breed\n",
    "        print(f\"Dog created. Name: {self.name}, Breed: {self.breed}\")\n",
    "\n",
    "    def make_sound(self):\n",
    "        print(\"Woof!\")\n",
    "\n",
    "    def move(self):\n",
    "        print(\"Dog runs\")\n",
    "\n"
   ]
  },
  {
   "cell_type": "code",
   "execution_count": null,
   "id": "88ff223f-8be4-44d1-81ec-4238577ace0e",
   "metadata": {},
   "outputs": [],
   "source": [
    "#What is abstraction in Python? How is it implemented?\n",
    "\n",
    "\n",
    "#Abstraction is one of the core concepts of Object-Oriented Programming (OOP). It refers to hiding the internal implementation details of a class and exposing only the essential features to the outside world.In simple terms, abstraction lets you work with what an object does, not how it does it.\n",
    "\n"
   ]
  },
  {
   "cell_type": "code",
   "execution_count": null,
   "id": "3d197bc7-196a-419d-82e4-db3c056898c9",
   "metadata": {},
   "outputs": [],
   "source": [
    "#Explain the importance of abstraction in object-oriented programming?\n",
    "\n",
    "\n",
    "#Abstraction is a fundamental principle in OOP that helps developers manage complexity by focusing on what an object does rather than how it does it."
   ]
  },
  {
   "cell_type": "code",
   "execution_count": null,
   "id": "bd43f8d4-4021-41ca-9802-d5583bc03c53",
   "metadata": {},
   "outputs": [],
   "source": [
    "#How are abstract methods different from regular methods in Python?\n",
    "\n",
    "\n",
    "#from abc import ABC, abstractmethod\n",
    "\n",
    "class Animal(ABC):\n",
    "    @abstractmethod\n",
    "    def make_sound(self):\n",
    "        pass  # No implementation\n",
    "\n",
    "class Dog(Animal):\n",
    "    def make_sound(self):\n",
    "        print(\"Woof!\")  # Must implement this\n",
    "#class Animal:\n",
    "    def make_sound(self):\n",
    "        print(\"Generic animal sound\")  # Implementation provided\n",
    "\n",
    "class Dog(Animal):\n",
    "    def make_sound(self):\n",
    "        print(\"Woof!\")  # Optional to override\n"
   ]
  },
  {
   "cell_type": "code",
   "execution_count": null,
   "id": "1761701d-0a9b-4459-b432-2ee3a02b85b6",
   "metadata": {},
   "outputs": [],
   "source": [
    "#How can you achieve abstraction using interfaces in Python?\n",
    "\n",
    "\n",
    "#Python does not have a formal interface keyword like Java or C#. However, you can achieve the same behavior using abstract base classes (ABCs) from the abc module.\n",
    "\n",
    "#In Python, an interface is typically represented by:\n",
    "\n",
    "#An abstract base class with only abstract methods (i.e., no implementation).\n",
    "\n",
    "#Subclasses must implement all the methods defined in the interface.\n",
    "\n"
   ]
  },
  {
   "cell_type": "raw",
   "id": "f6320c6f-68f7-416a-b5f5-d3ce3a5b6761",
   "metadata": {},
   "source": [
    "import os\n",
    "os.getcwd()"
   ]
  },
  {
   "cell_type": "code",
   "execution_count": null,
   "id": "77187a76-edc1-4f85-89dc-b11283bd3c4e",
   "metadata": {},
   "outputs": [],
   "source": []
  }
 ],
 "metadata": {
  "kernelspec": {
   "display_name": "Python [conda env:base]",
   "language": "python",
   "name": "conda-base-py"
  },
  "language_info": {
   "codemirror_mode": {
    "name": "ipython",
    "version": 3
   },
   "file_extension": ".py",
   "mimetype": "text/x-python",
   "name": "python",
   "nbconvert_exporter": "python",
   "pygments_lexer": "ipython3",
   "version": "3.12.7"
  }
 },
 "nbformat": 4,
 "nbformat_minor": 5
}
