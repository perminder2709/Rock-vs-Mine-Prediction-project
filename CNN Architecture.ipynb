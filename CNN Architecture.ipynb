{
 "cells": [
  {
   "cell_type": "code",
   "execution_count": null,
   "id": "847f2c0d-85ce-4e9b-bb6c-6521b2ec8ad7",
   "metadata": {},
   "outputs": [],
   "source": [
    "#What is a Convolutional Neural Network (CNN), and why is it used for image processing?\n",
    "A CNN is a deep learning model designed for image and spatial data. It detects patterns like edges, textures, and shapes via convolution operations, making it ideal for tasks like classification, object detection, and segmentation."
   ]
  },
  {
   "cell_type": "code",
   "execution_count": null,
   "id": "41122cec-45d1-437f-8648-73cd1981661a",
   "metadata": {},
   "outputs": [],
   "source": [
    "#What are the key components of a CNN architecture?\n",
    "\n",
    "Convolutional layers\n",
    "\n",
    "Activation functions (e.g., ReLU)\n",
    "\n",
    "Pooling layers\n",
    "\n",
    "Fully connected (dense) layers\n",
    "\n",
    "Dropout (optional for regularization)"
   ]
  },
  {
   "cell_type": "code",
   "execution_count": null,
   "id": "3dd1309c-fbe0-4915-87a5-fc3ffebc8e27",
   "metadata": {},
   "outputs": [],
   "source": [
    "#What is the role of the convolutional layer in CNNs?\n",
    "It extracts spatial features by applying filters (kernels) that slide over input data, capturing local patterns like edges or textures."
   ]
  },
  {
   "cell_type": "code",
   "execution_count": null,
   "id": "3199d33c-fc1e-40dc-8c05-7c295177d307",
   "metadata": {},
   "outputs": [],
   "source": [
    "#What is a filter (kernel) in CNNs?\n",
    "A small matrix (e.g., 3x3) used in convolutional layers to detect specific features like horizontal edges or corners by performing element-wise multiplication and summing."
   ]
  },
  {
   "cell_type": "code",
   "execution_count": null,
   "id": "ce250dad-e34c-4a1d-9755-8614ac416143",
   "metadata": {},
   "outputs": [],
   "source": [
    "#What is pooling in CNNs, and why is it important?\n",
    "Pooling reduces the spatial size of feature maps to decrease computation and overfitting. It also retains dominant features."
   ]
  },
  {
   "cell_type": "code",
   "execution_count": null,
   "id": "9a1b9be5-24bf-42d1-b26e-608c5c9eda75",
   "metadata": {},
   "outputs": [],
   "source": [
    "#What are the common types of pooling used in CNNs?\n",
    "\n",
    "Max Pooling (takes the maximum value)\n",
    "\n",
    "Average Pooling (takes the average value)"
   ]
  },
  {
   "cell_type": "code",
   "execution_count": null,
   "id": "4cbdd443-c2cf-4599-b2dd-8f3132962d45",
   "metadata": {},
   "outputs": [],
   "source": [
    "#How does the backpropagation algorithm work in CNNs?\n",
    "It computes gradients of loss w.r.t. weights using the chain rule and updates weights via gradient descent. It includes partial derivatives through convolutional and pooling layers."
   ]
  },
  {
   "cell_type": "code",
   "execution_count": null,
   "id": "3ff511bd-530d-42f2-807a-3d3c4675c94f",
   "metadata": {},
   "outputs": [],
   "source": [
    "#What is the role of activation functions in CNNs?\n",
    "They introduce non-linearity, allowing the network to learn complex patterns. Common activations: ReLU, sigmoid, tanh."
   ]
  },
  {
   "cell_type": "code",
   "execution_count": null,
   "id": "54df1046-52c1-4543-bd09-4699f924253f",
   "metadata": {},
   "outputs": [],
   "source": [
    "#What is the concept of receptive fields in CNNs?\n",
    "The receptive field is the region of the input image that a neuron (or feature detector) responds to. It increases with deeper layers."
   ]
  },
  {
   "cell_type": "code",
   "execution_count": null,
   "id": "5449a311-3b26-462b-aaf4-b54be06503a9",
   "metadata": {},
   "outputs": [],
   "source": [
    "#xplain the concept of tensor space in CNNs.\n",
    "Tensors are multi-dimensional arrays used to represent data. In CNNs, images are often represented as 4D tensors: (batch_size, height, width, channels)."
   ]
  },
  {
   "cell_type": "code",
   "execution_count": null,
   "id": "ee5f67c4-c0f9-4f8f-b7f0-ec0e1a38c364",
   "metadata": {},
   "outputs": [],
   "source": [
    "#What is LeNet-5, and how does it contribute to the development of CNNs?\n",
    "LeNet-5 (1998) by Yann LeCun is one of the earliest CNNs, used for digit recognition. It introduced core CNN components: convolution, pooling, and fully connected layers."
   ]
  },
  {
   "cell_type": "code",
   "execution_count": null,
   "id": "0d15cfb3-781b-49da-98ab-cd6b89c2546e",
   "metadata": {},
   "outputs": [],
   "source": [
    "#What is AlexNet, and why was it a breakthrough in deep learning?\n",
    "AlexNet (2012) won the ImageNet competition with a large margin. It used ReLU, dropout, and GPU training—kickstarting the deep learning revolution."
   ]
  },
  {
   "cell_type": "code",
   "execution_count": null,
   "id": "c0f1e60f-ba09-43dc-b7f7-830ddc428bae",
   "metadata": {},
   "outputs": [],
   "source": [
    "#What is VGGNet, and how does it differ from AlexNet?\n",
    "VGGNet (2014) uses very small filters (3x3), increasing depth (16–19 layers), and a simple, uniform architecture. It improved accuracy over AlexNet."
   ]
  },
  {
   "cell_type": "code",
   "execution_count": null,
   "id": "85ea2a56-207a-4c27-bed0-d0429ef60734",
   "metadata": {},
   "outputs": [],
   "source": [
    "#What is GoogLeNet, and what is its main innovation?\n",
    "GoogLeNet (2014) introduced the Inception module, which uses multiple filter sizes in parallel to improve efficiency and accuracy while reducing parameters."
   ]
  },
  {
   "cell_type": "code",
   "execution_count": null,
   "id": "f55d97bd-9001-4066-b3db-4ff925513da8",
   "metadata": {},
   "outputs": [],
   "source": [
    "#What is ResNet, and what problem does it solve?\n",
    "ResNet (2015) introduced residual connections to mitigate the vanishing gradient problem in very deep networks. It enabled training of networks with 100+ layers."
   ]
  },
  {
   "cell_type": "code",
   "execution_count": null,
   "id": "6a5a374d-cfb8-49df-8c31-a09a835f882b",
   "metadata": {},
   "outputs": [],
   "source": [
    "#What is DenseNet, and how does it differ from ResNet?\n",
    "DenseNet connects each layer to every other layer (dense connectivity), improving gradient flow and feature reuse compared to ResNet's additive shortcuts."
   ]
  },
  {
   "cell_type": "code",
   "execution_count": null,
   "id": "a3ac503c-06e3-46ee-82d7-fbf7761ae6a6",
   "metadata": {},
   "outputs": [],
   "source": [
    "#What are the main steps involved in training a CNN from scratch?\n",
    "\n",
    "Prepare the dataset (load and preprocess images)\n",
    "\n",
    "Define CNN architecture\n",
    "\n",
    "Choose a loss function and optimizer\n",
    "\n",
    "Train the model (forward + backpropagation)\n",
    "\n",
    "Evaluate performance\n",
    "\n",
    "Fine-tune hyperparameters\n",
    "\n",
    "Save and deploy the model"
   ]
  },
  {
   "cell_type": "code",
   "execution_count": 1,
   "id": "29f4c200-d207-43b3-9746-15d0c609e9e5",
   "metadata": {},
   "outputs": [
    {
     "name": "stdout",
     "output_type": "stream",
     "text": [
      "[[-0.37774586  0.3321871   0.21110546]\n",
      " [-0.63000389  0.20121012  0.02930154]\n",
      " [ 0.15693307  0.27623424 -0.20253701]]\n"
     ]
    }
   ],
   "source": [
    "#Implement a basic convolution operation using a filter and a 5x5 image (matrix)\n",
    "import numpy as np\n",
    "image = np.random.rand(5, 5)\n",
    "kernel = np.array([[1, 0, -1], [1, 0, -1], [1, 0, -1]])\n",
    "result = np.zeros((3, 3))\n",
    "\n",
    "for i in range(3):\n",
    "    for j in range(3):\n",
    "        result[i, j] = np.sum(image[i:i+3, j:j+3] * kernel)\n",
    "print(result)\n"
   ]
  },
  {
   "cell_type": "code",
   "execution_count": 3,
   "id": "dc162e2f-6f0e-427c-9899-3d9f50ccae54",
   "metadata": {},
   "outputs": [
    {
     "name": "stdout",
     "output_type": "stream",
     "text": [
      "[[0.81846597 0.66651194]\n",
      " [0.77819571 0.91995115]]\n"
     ]
    }
   ],
   "source": [
    "# Implement max pooling on a 4x4 feature map with a 2x2 window\n",
    "feature_map = np.random.rand(4, 4)\n",
    "pooled = np.zeros((2, 2))\n",
    "\n",
    "for i in range(2):\n",
    "    for j in range(2):\n",
    "        pooled[i, j] = np.max(feature_map[i*2:i*2+2, j*2:j*2+2])\n",
    "print(pooled)"
   ]
  },
  {
   "cell_type": "code",
   "execution_count": 5,
   "id": "3940db00-0c5d-4b67-93de-a49916e07abf",
   "metadata": {},
   "outputs": [
    {
     "name": "stdout",
     "output_type": "stream",
     "text": [
      "[[1.77781262 0.         0.7531494 ]\n",
      " [1.33835541 1.93390356 0.        ]\n",
      " [0.96195955 0.         0.        ]]\n"
     ]
    }
   ],
   "source": [
    "# Implement the ReLU activation function on a feature map\n",
    "feature_map = np.random.randn(3, 3)\n",
    "relu_output = np.maximum(0, feature_map)\n",
    "print(relu_output)"
   ]
  },
  {
   "cell_type": "code",
   "execution_count": null,
   "id": "b4de535a-f05e-46c6-bc9e-bfeaa1be554d",
   "metadata": {},
   "outputs": [],
   "source": [
    "#Create a simple CNN model with one convolutional layer and a fully connected layer, using random data\n",
    "import tensorflow as tf\n",
    "model = tf.keras.Sequential([\n",
    "    tf.keras.layers.Conv2D(8, (3,3), activation='relu', input_shape=(28,28,1)),\n",
    "    tf.keras.layers.Flatten(),\n",
    "    tf.keras.layers.Dense(10, activation='softmax')\n",
    "])\n",
    "model.summary()"
   ]
  },
  {
   "cell_type": "code",
   "execution_count": 13,
   "id": "7b831c44-8f9f-44f7-ba41-e05e7f009ab2",
   "metadata": {},
   "outputs": [],
   "source": [
    "#Generate a synthetic dataset using random noise and train a simple CNN model on it\n",
    "x = np.random.rand(100, 28, 28, 1)\n",
    "y = tf.keras.utils.to_categorical(np.random.randint(0, 10, 100), 10)\n",
    "model.compile(optimizer='adam', loss='categorical_crossentropy', metrics=['accuracy'])\n",
    "model.fit(x, y, epochs=3)"
   ]
  },
  {
   "cell_type": "code",
   "execution_count": null,
   "id": "a225ce52-2dd9-4787-9242-f713972bdbf1",
   "metadata": {},
   "outputs": [],
   "source": [
    "#Create a simple CNN using Keras with one convolution layer and a max-pooling layer\n",
    "model = tf.keras.Sequential([\n",
    "    tf.keras.layers.Conv2D(16, (3,3), activation='relu', input_shape=(28,28,1)),\n",
    "    tf.keras.layers.MaxPooling2D((2,2)),\n",
    "    tf.keras.layers.Flatten(),\n",
    "    tf.keras.layers.Dense(10, activation='softmax')\n",
    "])\n",
    "model.summary()"
   ]
  },
  {
   "cell_type": "code",
   "execution_count": null,
   "id": "8278d7e8-7236-4cab-81cb-7255528d3bb8",
   "metadata": {},
   "outputs": [],
   "source": [
    "#Write a code to add a fully connected layer after the convolution and max-pooling layers in a CNN\n",
    "model = tf.keras.Sequential([\n",
    "    tf.keras.layers.Conv2D(32, (3,3), activation='relu', input_shape=(28,28,1)),\n",
    "    tf.keras.layers.MaxPooling2D((2,2)),\n",
    "    tf.keras.layers.Flatten(),\n",
    "    tf.keras.layers.Dense(64, activation='relu'),\n",
    "    tf.keras.layers.Dense(10, activation='softmax')\n",
    "])"
   ]
  },
  {
   "cell_type": "code",
   "execution_count": null,
   "id": "b46b0cb0-21c3-44b8-81c0-0e7bc11f4189",
   "metadata": {},
   "outputs": [],
   "source": [
    "#Write a code to add  batch normalization to a simple CNN model\n",
    "model = tf.keras.Sequential([\n",
    "    tf.keras.layers.Conv2D(32, (3,3), input_shape=(28,28,1)),\n",
    "    tf.keras.layers.BatchNormalization(),\n",
    "    tf.keras.layers.Activation('relu'),\n",
    "    tf.keras.layers.Flatten(),\n",
    "    tf.keras.layers.Dense(10, activation='softmax')\n",
    "])"
   ]
  },
  {
   "cell_type": "code",
   "execution_count": null,
   "id": "10a02e93-1eb1-4fd8-b335-2f840b95ad1e",
   "metadata": {},
   "outputs": [],
   "source": [
    "#Write a code to add dropout regularization to a simple CNN mode|\n",
    "model = tf.keras.Sequential([\n",
    "    tf.keras.layers.Conv2D(32, (3,3), activation='relu', input_shape=(28,28,1)),\n",
    "    tf.keras.layers.MaxPooling2D((2,2)),\n",
    "    tf.keras.layers.Flatten(),\n",
    "    tf.keras.layers.Dropout(0.5),\n",
    "    tf.keras.layers.Dense(10, activation='softmax')\n",
    "])"
   ]
  },
  {
   "cell_type": "code",
   "execution_count": null,
   "id": "df1c99d6-0c7c-402c-8680-c3e2e1cc3815",
   "metadata": {},
   "outputs": [],
   "source": [
    "#Write a code to print the architecture of the VGG16 model in Keras\n",
    "from tensorflow.keras.applications import VGG16\n",
    "model = VGG16()\n",
    "model.summary()"
   ]
  },
  {
   "cell_type": "code",
   "execution_count": null,
   "id": "bfbf81f9-d16f-4eed-b94f-f569580d1fa2",
   "metadata": {},
   "outputs": [],
   "source": [
    "#Write a code to plot the accuracy and loss graphs after training a CNN model\n",
    "history = model.fit(x, y, epochs=5, validation_split=0.2)\n",
    "\n",
    "import matplotlib.pyplot as plt\n",
    "plt.plot(history.history['loss'], label='loss')\n",
    "plt.plot(history.history['val_loss'], label='val_loss')\n",
    "plt.plot(history.history['accuracy'], label='acc')\n",
    "plt.plot(history.history['val_accuracy'], label='val_acc')\n",
    "plt.legend()\n",
    "plt.show()\n"
   ]
  },
  {
   "cell_type": "code",
   "execution_count": null,
   "id": "8abd3517-8dc5-4e59-96ab-088abdadf6dc",
   "metadata": {},
   "outputs": [],
   "source": [
    "#Write a code to print the architecture of the ResNet50 model in Keras\n",
    "from tensorflow.keras.applications import ResNet50\n",
    "model = ResNet50()\n",
    "model.summary()"
   ]
  },
  {
   "cell_type": "code",
   "execution_count": null,
   "id": "bd63e629-2da0-4204-a24a-09ace55aad3d",
   "metadata": {},
   "outputs": [],
   "source": [
    "#Write a code to train a basic CNN model and print the training loss and accuracy after each epoch\n",
    "history = model.fit(x, y, epochs=5, verbose=1)"
   ]
  }
 ],
 "metadata": {
  "kernelspec": {
   "display_name": "Python [conda env:base]",
   "language": "python",
   "name": "conda-base-py"
  },
  "language_info": {
   "codemirror_mode": {
    "name": "ipython",
    "version": 3
   },
   "file_extension": ".py",
   "mimetype": "text/x-python",
   "name": "python",
   "nbconvert_exporter": "python",
   "pygments_lexer": "ipython3",
   "version": "3.12.7"
  }
 },
 "nbformat": 4,
 "nbformat_minor": 5
}
